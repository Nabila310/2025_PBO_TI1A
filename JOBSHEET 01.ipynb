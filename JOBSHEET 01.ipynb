{
  "nbformat": 4,
  "nbformat_minor": 0,
  "metadata": {
    "colab": {
      "provenance": [],
      "authorship_tag": "ABX9TyMDUUdO9Ikrw8s0aUPzLAyp",
      "include_colab_link": true
    },
    "kernelspec": {
      "name": "python3",
      "display_name": "Python 3"
    },
    "language_info": {
      "name": "python"
    }
  },
  "cells": [
    {
      "cell_type": "markdown",
      "metadata": {
        "id": "view-in-github",
        "colab_type": "text"
      },
      "source": [
        "<a href=\"https://colab.research.google.com/github/Nabila310/2025_PBO_TI1A/blob/main/JOBSHEET%2001.ipynb\" target=\"_parent\"><img src=\"https://colab.research.google.com/assets/colab-badge.svg\" alt=\"Open In Colab\"/></a>"
      ]
    },
    {
      "cell_type": "markdown",
      "source": [
        "### JOBSHEET 01 - DASAR BAHASA PEMOGRAMAN PYTHON"
      ],
      "metadata": {
        "id": "rQBLaq97sI-j"
      }
    },
    {
      "cell_type": "markdown",
      "source": [
        "Praktikum 01. Tipe data dasar"
      ],
      "metadata": {
        "id": "iiBDHIVyA2qB"
      }
    },
    {
      "cell_type": "code",
      "source": [
        "# 1. Number (int, float, complex)\n",
        "# Integer (int)\n",
        "angka_int = 10\n",
        "print(\"angka_int =\", angka_int, \"->\", type(angka_int))"
      ],
      "metadata": {
        "colab": {
          "base_uri": "https://localhost:8080/"
        },
        "id": "4EFW2mLe8oNr",
        "outputId": "b03dddba-e19d-49d6-ce11-db95c1330fd9"
      },
      "execution_count": null,
      "outputs": [
        {
          "output_type": "stream",
          "name": "stdout",
          "text": [
            "angka_int = 10 -> <class 'int'>\n"
          ]
        }
      ]
    },
    {
      "cell_type": "code",
      "source": [
        "#Float\n",
        "angka_float = 3.14\n",
        "print(\"angka_float =\", angka_float, \"->\", type(angka_float))"
      ],
      "metadata": {
        "colab": {
          "base_uri": "https://localhost:8080/"
        },
        "id": "jsdOm5Vt9TEF",
        "outputId": "2654ea44-ba98-40c9-cf13-d5b340ef7e4b"
      },
      "execution_count": null,
      "outputs": [
        {
          "output_type": "stream",
          "name": "stdout",
          "text": [
            "angka_float = 3.14 -> <class 'float'>\n"
          ]
        }
      ]
    },
    {
      "cell_type": "code",
      "source": [
        "#Complex\n",
        "angka_complex = 2 + 3j\n",
        "print(\"angka_complex =\", angka_complex, \"->\", type(angka_complex) )"
      ],
      "metadata": {
        "colab": {
          "base_uri": "https://localhost:8080/"
        },
        "id": "rBFuNLT5-SxV",
        "outputId": "66c8eefa-e8b3-48d3-972c-50cc259a3504"
      },
      "execution_count": null,
      "outputs": [
        {
          "output_type": "stream",
          "name": "stdout",
          "text": [
            "angka_complex = (2+3j) -> <class 'complex'>\n"
          ]
        }
      ]
    },
    {
      "cell_type": "code",
      "source": [
        "# 2.Boolean\n",
        "is_active = True\n",
        "print(\"is_active =\", is_active, \"->\", type(is_active))"
      ],
      "metadata": {
        "colab": {
          "base_uri": "https://localhost:8080/"
        },
        "id": "CueknnNY-xz4",
        "outputId": "5a4f2bf6-2e4a-46c5-f2c4-7a7ba359ec1a"
      },
      "execution_count": null,
      "outputs": [
        {
          "output_type": "stream",
          "name": "stdout",
          "text": [
            "is_active = True -> <class 'bool'>\n"
          ]
        }
      ]
    },
    {
      "cell_type": "code",
      "source": [
        "# 3. String\n",
        "teks = \"Hello, Python!\"\n",
        "print(\"teks =\", teks, \"->\", type(teks))"
      ],
      "metadata": {
        "colab": {
          "base_uri": "https://localhost:8080/"
        },
        "id": "kApCH2Te_Qku",
        "outputId": "de04f055-244a-475b-e46e-2990877cc586"
      },
      "execution_count": null,
      "outputs": [
        {
          "output_type": "stream",
          "name": "stdout",
          "text": [
            "teks = Hello, Python! -> <class 'str'>\n"
          ]
        }
      ]
    },
    {
      "cell_type": "code",
      "source": [
        " # 4. List\n",
        " # List adalah tipe data terurut dan dapat diubah (mutable)\n",
        "daftar_angka = [1, 2, 3, 4, 5]\n",
        "print(\"daftar_angka =\", daftar_angka, \"->\", type(daftar_angka))"
      ],
      "metadata": {
        "colab": {
          "base_uri": "https://localhost:8080/"
        },
        "id": "5BlKJccu_aSJ",
        "outputId": "992b0fb9-5dce-4bd9-d24e-86b57f8f81f1"
      },
      "execution_count": null,
      "outputs": [
        {
          "output_type": "stream",
          "name": "stdout",
          "text": [
            "daftar_angka = [1, 2, 3, 4, 5] -> <class 'list'>\n"
          ]
        }
      ]
    },
    {
      "cell_type": "code",
      "source": [
        "# 5. Tuple\n",
        "# Tuple adalah tipe data terurut tetapi tidak dapat diubah (immutable)\n",
        "koordinat = (10,20)\n",
        "print(\"koordinat =\", koordinat, \"->\", type(koordinat))"
      ],
      "metadata": {
        "colab": {
          "base_uri": "https://localhost:8080/"
        },
        "id": "kRgGGj0t_ibY",
        "outputId": "1fac7bea-26ed-480d-f1d7-c9140e88442e"
      },
      "execution_count": null,
      "outputs": [
        {
          "output_type": "stream",
          "name": "stdout",
          "text": [
            "koordinat = (10, 20) -> <class 'tuple'>\n"
          ]
        }
      ]
    },
    {
      "cell_type": "code",
      "source": [
        " # 6. Dictionary\n",
        " # Dictionary menyimpan data dalam pasangan key-value\n",
        "data_mahasiswa = {\n",
        "     \"nama\": \"Andi\",\n",
        "     \"nim\": \"A11.2022.12345\",\n",
        "     \"jurusan\": \"Teknik Informatika\"\n",
        " }\n",
        " print(\"data_mahasiswa =\", data_mahasiswa, \"->\", type(data_mahasiswa))"
      ],
      "metadata": {
        "colab": {
          "base_uri": "https://localhost:8080/"
        },
        "id": "INmzmsowAIpD",
        "outputId": "75729641-08ae-4f5b-c74a-cbb1ce66eaff"
      },
      "execution_count": null,
      "outputs": [
        {
          "output_type": "stream",
          "name": "stdout",
          "text": [
            "data_mahasiswa = {'nama': 'Andi', 'nim': 'A11.2022.12345', 'jurusan': 'Teknik Informatika'} -> <class 'dict'>\n"
          ]
        }
      ]
    },
    {
      "cell_type": "code",
      "source": [
        "# 7. Set\n",
        "# Set adalah tipe data yang tidak terurut, unik (tiap elemen hanya muncul 1x)\n",
        "himpunan_angka = {1, 2, 3, 2, 1}\n",
        "print(\"himpunan_angka =\", himpunan_angka, \"->\", type(himpunan_angka))"
      ],
      "metadata": {
        "colab": {
          "base_uri": "https://localhost:8080/"
        },
        "id": "D1vx06lLAV0P",
        "outputId": "eb0fb8b4-d990-4309-91f2-e0b0b939806c"
      },
      "execution_count": null,
      "outputs": [
        {
          "output_type": "stream",
          "name": "stdout",
          "text": [
            "himpunan_angka = {1, 2, 3} -> <class 'set'>\n"
          ]
        }
      ]
    },
    {
      "cell_type": "code",
      "source": [
        " # 8. Contoh penggunaan konversi tipe data\n",
        "nilai_str = \"100\"\n",
        "print(\"\\nnilai_str =\", nilai_str, \"->\", type(nilai_str))\n",
        "nilai_int = int(nilai_str)  # konversi string ke integer\n",
        "print(\"nilai_int =\", nilai_int, \"->\", type(nilai_int))"
      ],
      "metadata": {
        "colab": {
          "base_uri": "https://localhost:8080/"
        },
        "id": "gfvbyaWLAwnw",
        "outputId": "c548cf38-e281-42c5-ba3c-994d681cf9b4"
      },
      "execution_count": null,
      "outputs": [
        {
          "output_type": "stream",
          "name": "stdout",
          "text": [
            "\n",
            "nilai_str = 100 -> <class 'str'>\n",
            "nilai_int = 100 -> <class 'int'>\n"
          ]
        }
      ]
    },
    {
      "cell_type": "markdown",
      "source": [
        "Praktikum 02. Variabel dan Operasi dasar"
      ],
      "metadata": {
        "id": "IhObDRJhBAIf"
      }
    },
    {
      "cell_type": "code",
      "source": [
        "# -*- coding: utf-88 -*-"
      ],
      "metadata": {
        "id": "NAfUsLhKBIBD"
      },
      "execution_count": null,
      "outputs": []
    },
    {
      "cell_type": "code",
      "source": [
        " # 1. Pendeklarasian Variabel\n",
        "nama = \"Budi\"\n",
        "umur = 20\n",
        "tinggi = 170.5\n",
        "is_student = True\n",
        "\n",
        "print(\"Nama =\", nama)\n",
        "print(\"Umur =\", umur)\n",
        "print(\"Tinggi =\", tinggi, \"cm\")\n",
        "print(\"Mahasiswa =\", is_student)\n",
        "# Python tidak memerlukan deklarasi tipe data secara eksplisit.\n",
        "# Tipe data variabel akan menyesuaikan nilai yang diberikan."
      ],
      "metadata": {
        "colab": {
          "base_uri": "https://localhost:8080/"
        },
        "id": "MtpGSc9sBOUs",
        "outputId": "e648065d-3c4c-48bf-8c50-54abb24dfd89"
      },
      "execution_count": null,
      "outputs": [
        {
          "output_type": "stream",
          "name": "stdout",
          "text": [
            "Nama = Budi\n",
            "Umur = 20\n",
            "Tinggi = 170.5 cm\n",
            "Mahasiswa = True\n"
          ]
        }
      ]
    },
    {
      "cell_type": "code",
      "source": [
        " # 2. Operasi Aritmetika\n",
        "a = 10\n",
        "b = 3\n",
        "\n",
        "penjumlahan = a + b      # Tambah\n",
        "pengurangan = a - b      # Kurang\n",
        "perkalian = a * b        # Kali\n",
        "pembagian = a / b        # Bagi (hasil float)\n",
        "pembagian_bulat = a // b # Bagi (bulat)\n",
        "modulus = a % b          # Sisa bagi\n",
        "pangkat = a ** b         # Pemangkatan\n",
        "\n",
        "print(\"\\nOPERASI ARITMETIKA\")\n",
        "print(\"a =\", a, \", b =\", b)\n",
        "print(\"Penjumlahan =\", penjumlahan)\n",
        "print(\"Pengurangan =\", pengurangan)\n",
        "print(\"Perkalian =\", perkalian)\n",
        "print(\"Pembagian =\", pembagian)\n",
        "print(\"Pembagian Bulat =\", pembagian_bulat)\n",
        "print(\"Modulus =\", modulus)\n",
        "print(\"Pangkat =\", pangkat)\n"
      ],
      "metadata": {
        "colab": {
          "base_uri": "https://localhost:8080/"
        },
        "id": "LReicJeqB42m",
        "outputId": "46666924-0462-4430-853b-bb5311eeb861"
      },
      "execution_count": null,
      "outputs": [
        {
          "output_type": "stream",
          "name": "stdout",
          "text": [
            "\n",
            "OPERASI ARITMETIKA\n",
            "a = 10 , b = 3\n",
            "Penjumlahan = 13\n",
            "Pengurangan = 7\n",
            "Perkalian = 30\n",
            "Pembagian = 3.3333333333333335\n",
            "Pembagian Bulat = 3\n",
            "Modulus = 1\n",
            "Pangkat = 1000\n"
          ]
        }
      ]
    },
    {
      "cell_type": "code",
      "source": [
        " # 3. Operasi Perbandingan\n",
        "# Menghasilkan nilai Boolean (True/False)\n",
        "lebih_besar = a > b\n",
        "kurang_dari = a < b\n",
        "sama_dengan = a == b\n",
        "tidak_sama = a != b\n",
        "lebih_besar_sama = a >= b\n",
        "kurang_sama = a <= b\n",
        "\n",
        "print(\"\\nOPERASI PERBANDINGAN\")\n",
        "print(\"a > b =\", lebih_besar)\n",
        "print(\"a < b =\", kurang_dari)\n",
        "print(\"a == b =\", sama_dengan)\n",
        "print(\"a != b =\", tidak_sama)\n",
        "print(\"a >= b =\", lebih_besar_sama)\n",
        "print(\"a <= b =\", kurang_sama)"
      ],
      "metadata": {
        "colab": {
          "base_uri": "https://localhost:8080/"
        },
        "id": "oWIStli1CsH9",
        "outputId": "497bcb59-d47a-4a66-ceb0-77591172dc32"
      },
      "execution_count": null,
      "outputs": [
        {
          "output_type": "stream",
          "name": "stdout",
          "text": [
            "\n",
            "OPERASI PERBANDINGAN\n",
            "a > b = True\n",
            "a < b = False\n",
            "a == b = False\n",
            "a != b = True\n",
            "a >= b = True\n",
            "a <= b = False\n"
          ]
        }
      ]
    },
    {
      "cell_type": "code",
      "source": [
        "# 4. Operasi Logika\n",
        "# and, or, not\n",
        "\n",
        "x = True\n",
        "y = False\n",
        "\n",
        "logika_and = x and y\n",
        "logika_or = x or y\n",
        "logika_not_x = not x\n",
        "\n",
        "print(\"\\nOPERASI LOGIKA\")\n",
        "print(\"x =\", x, \", y =\", y)\n",
        "print(\"x and y =\", logika_and)\n",
        "print(\"x or y =\", logika_or)\n",
        "print(\"not x =\", logika_not_x)"
      ],
      "metadata": {
        "colab": {
          "base_uri": "https://localhost:8080/"
        },
        "id": "ktdwLJ14DNxE",
        "outputId": "bb6bc312-6482-4158-8ad4-360c44bcf2e2"
      },
      "execution_count": null,
      "outputs": [
        {
          "output_type": "stream",
          "name": "stdout",
          "text": [
            "\n",
            "OPERASI LOGIKA\n",
            "x = True , y = False\n",
            "x and y = False\n",
            "x or y = True\n",
            "not x = False\n"
          ]
        }
      ]
    },
    {
      "cell_type": "code",
      "source": [
        " # 5. Contoh penggunaan di dalam percabangan\n",
        "if a > b and b > 0:\n",
        "     print(\"\\nKondisi terpenuhi: a lebih besar dari b, dan b masih positif.\")\n",
        "else:\n",
        "     print(\"\\nKondisi tidak terpenuhi atau b <= 0.\")"
      ],
      "metadata": {
        "colab": {
          "base_uri": "https://localhost:8080/"
        },
        "id": "LGzTHgDWDomT",
        "outputId": "23f2c4e0-6599-453d-e187-8f186f0e100c"
      },
      "execution_count": null,
      "outputs": [
        {
          "output_type": "stream",
          "name": "stdout",
          "text": [
            "\n",
            "Kondisi terpenuhi: a lebih besar dari b, dan b masih positif.\n"
          ]
        }
      ]
    },
    {
      "cell_type": "markdown",
      "source": [
        "Praktikum 03. Percabangan"
      ],
      "metadata": {
        "id": "L0QnscBlDwCt"
      }
    },
    {
      "cell_type": "code",
      "source": [
        "# -*- coding: utf-8 -*-"
      ],
      "metadata": {
        "id": "1_0ytry6D1cb"
      },
      "execution_count": null,
      "outputs": []
    },
    {
      "cell_type": "code",
      "source": [
        " # 1. IF Sederhana\n",
        " # Program hanya mengeksekusi blok jika kondisinya True\n",
        "\n",
        " nilai = 85\n",
        " print(\"Contoh IF Sederhana:\")\n",
        " if nilai > 80:\n",
        "       print(\"Selamat! Anda lulus dengan nilai tinggi.\\n\")"
      ],
      "metadata": {
        "colab": {
          "base_uri": "https://localhost:8080/"
        },
        "id": "uQlVqXH1D7Et",
        "outputId": "9cc696e2-9f35-491b-ef7a-bf16922652de"
      },
      "execution_count": null,
      "outputs": [
        {
          "output_type": "stream",
          "name": "stdout",
          "text": [
            "Contoh IF Sederhana:\n",
            "Selamat! Anda lulus dengan nilai tinggi.\n",
            "\n"
          ]
        }
      ]
    },
    {
      "cell_type": "code",
      "source": [
        " # 2. IF-ELSE\n",
        " # Jika kondisi True, eksekusi blok if; jika False, eksekusi blok else\n",
        "\n",
        "umur = 17\n",
        "print(\"Contoh IF-ELSE:\")\n",
        "if umur >= 18:\n",
        "     print(\"Anda sudah cukup umur untuk mendapatkan SIM.\")\n",
        "else:\n",
        "     print(\"Anda belum cukup umur untuk mendapatkan SIM.\\n\")"
      ],
      "metadata": {
        "colab": {
          "base_uri": "https://localhost:8080/"
        },
        "id": "qM7tYlALEWfM",
        "outputId": "db96bc45-9632-41cf-bdd8-81e307a39a69"
      },
      "execution_count": null,
      "outputs": [
        {
          "output_type": "stream",
          "name": "stdout",
          "text": [
            "Contoh IF-ELSE:\n",
            "Anda belum cukup umur untuk mendapatkan SIM.\n",
            "\n"
          ]
        }
      ]
    },
    {
      "cell_type": "code",
      "source": [
        " # 3. IF-ELIF-ELSE\n",
        " # Menangani banyak kondisi secara berurutan.\n",
        " # Jika ada kondisi yang terpenuhi, blok yang bersangkutan dieksekusi,\n",
        " # lalu program melewati blok kondisi setelahnya.\n",
        "\n",
        "hari = \"Rabu\"\n",
        "print(\"Contoh IF-ELIF-ELSE:\")\n",
        "if hari == \"Senin\":\n",
        "     print(\"Hari Senin - Saatnya kembali bekerja!\")\n",
        "elif hari == \"Selasa\":\n",
        "     print(\"Hari Selasa - Jadwal rapat mingguan.\")\n",
        "elif hari == \"Rabu\":\n",
        "     print(\"Hari Rabu - Ada diskon di beberapa toko.\")\n",
        "else:\n",
        "     print(\"Hari lainnya - Atur jadwalmu dengan baik.\\n\")"
      ],
      "metadata": {
        "colab": {
          "base_uri": "https://localhost:8080/"
        },
        "id": "asPWdTONEh0u",
        "outputId": "bb4af4bd-d370-4799-92b7-5561e810d880"
      },
      "execution_count": null,
      "outputs": [
        {
          "output_type": "stream",
          "name": "stdout",
          "text": [
            "Contoh IF-ELIF-ELSE:\n",
            "Hari Rabu - Ada diskon di beberapa toko.\n"
          ]
        }
      ]
    },
    {
      "cell_type": "code",
      "source": [
        " # 4. IF Bersarang (Nested IF)\n",
        "# Kondisi di dalam kondisi, biasa digunakan jika kita perlu\n",
        "# memeriksa sub-kondisi setelah kondisi pertama terpenuhi.\n",
        "\n",
        "suhu = 35\n",
        "print(\"Contoh IF Bersarang (Nested IF):\")\n",
        "if suhu > 30:\n",
        "    print(\"Cuaca cukup panas.\")\n",
        "    if suhu > 40:\n",
        "        print(\"Bahkan sangat terik! Disarankan banyak minum air.\")\n",
        "    else: # This else corresponds to the inner if (suhu > 40)\n",
        "        print(\"Masih relatif normal, tapi tetap jaga kesehatan.\")\n",
        "else: # This else corresponds to the outer if (suhu > 30)\n",
        "    print(\"Cuaca  sepertinya cukup sejuk.\\n\")\n"
      ],
      "metadata": {
        "colab": {
          "base_uri": "https://localhost:8080/"
        },
        "id": "FkmdFOxyExhK",
        "outputId": "9f2063b4-1ce7-4adb-dc70-b12b327dbb1f"
      },
      "execution_count": null,
      "outputs": [
        {
          "output_type": "stream",
          "name": "stdout",
          "text": [
            "Contoh IF Bersarang (Nested IF):\n",
            "Cuaca cukup panas.\n",
            "Masih relatif normal, tapi tetap jaga kesehatan.\n"
          ]
        }
      ]
    },
    {
      "cell_type": "code",
      "source": [
        " # 5. Menggabungkan Percabangan dengan Operasi Logika\n",
        " # Memeriksa beberapa kondisi sekaligus dengan and, or, not\n",
        "\n",
        "nilai_teori = 75\n",
        "nilai_praktik = 80\n",
        "print(\"Contoh IF dengan Operasi Logika AND/OR:\")\n",
        "if nilai_teori >= 70 and nilai_praktik >= 70:\n",
        "    print(\"Anda lulus karena nilai teori dan praktik memadai.\")\n",
        "elif nilai_teori < 70 and nilai_praktik < 70:\n",
        "    print(\"Anda perlu meningkatkan nilai teori dan praktik.\")\n",
        "elif nilai_teori < 70:\n",
        "    print(\"Anda perlu meningkatkan nilai teori.\")\n",
        "else:\n",
        "    print(\"Anda perlu meningkatkan nilai praktik.\\n\")\n",
        "\n",
        "\n",
        " # 6. Penggunaan If Ternary (atau Conditional Expression)\n",
        " # Bentuk ringkas: <hasil_if_true> if <kondisi> else <hasil_if_false>\n",
        "\n",
        "angka = -5\n",
        "print(\"Contoh If Ternary (Conditional Expression):\")\n",
        "status = \"Positif\" if angka > 0 else \"Negatif atau Nol\"\n",
        "print(\"Angka =\", angka, \"=>\", status)"
      ],
      "metadata": {
        "colab": {
          "base_uri": "https://localhost:8080/"
        },
        "id": "T3JedxoTGo7z",
        "outputId": "cdc2fb5a-1e01-4384-ec8c-8499edb5d549"
      },
      "execution_count": null,
      "outputs": [
        {
          "output_type": "stream",
          "name": "stdout",
          "text": [
            "Contoh IF dengan Operasi Logika AND/OR:\n",
            "Anda lulus karena nilai teori dan praktik memadai.\n",
            "Contoh If Ternary (Conditional Expression):\n",
            "Angka = -5 => Negatif atau Nol\n"
          ]
        }
      ]
    },
    {
      "cell_type": "markdown",
      "source": [
        "Praktikum 04. Perulangan"
      ],
      "metadata": {
        "id": "qltnA0-bHFff"
      }
    },
    {
      "cell_type": "code",
      "source": [
        " # -*- coding: utf-8 -*-\n",
        "\n",
        "# 1. FOR Loop dengan range()\n",
        "print(\"1) FOR loop dengan range()\")\n",
        "for i in range(5):\n",
        "    print(\"Perulangan ke-\", i)\n",
        "# range(5) menghasilkan nilai 0, 1, 2, 3, dan 4\n",
        "# Sehingga perulangan akan berjalan sebanyak 5 kali\n",
        "\n",
        "print()  # pemisah output"
      ],
      "metadata": {
        "colab": {
          "base_uri": "https://localhost:8080/"
        },
        "id": "j3Eg585pHIii",
        "outputId": "e4fcf04f-1285-43c5-8f4f-1cc025d90ce2"
      },
      "execution_count": null,
      "outputs": [
        {
          "output_type": "stream",
          "name": "stdout",
          "text": [
            "1) FOR loop dengan range()\n",
            "Perulangan ke- 0\n",
            "Perulangan ke- 1\n",
            "Perulangan ke- 2\n",
            "Perulangan ke- 3\n",
            "Perulangan ke- 4\n",
            "\n"
          ]
        }
      ]
    },
    {
      "cell_type": "code",
      "source": [
        "# 2. FOR Loop untuk mengiterasi List\n",
        "print(\"2) FOR loop mengiterasi list\")\n",
        "buah = [\"apel\", \"mangga\", \"jeruk\", \"pisang\"]\n",
        "for item in buah:\n",
        "    print(\"Buah:\", item)\n",
        "# Loop akan mengeksekusi setiap elemen dalam list \"buah\"\n",
        "\n",
        "print() # Corrected indentation to align with the outer scope"
      ],
      "metadata": {
        "colab": {
          "base_uri": "https://localhost:8080/"
        },
        "id": "skHHJPNvI_am",
        "outputId": "2204e9f6-6f9a-489d-d6e4-013782d72d58"
      },
      "execution_count": null,
      "outputs": [
        {
          "output_type": "stream",
          "name": "stdout",
          "text": [
            "2) FOR loop mengiterasi list\n",
            "Buah: apel\n",
            "Buah: mangga\n",
            "Buah: jeruk\n",
            "Buah: pisang\n",
            "\n"
          ]
        }
      ]
    },
    {
      "cell_type": "code",
      "source": [
        "# 3. WHILE Loop\n",
        "print(\"3) WHILE loop sederhana\")\n",
        "count = 0\n",
        "while count < 5:\n",
        "     print(\"count =\", count)\n",
        "     count += 1  # increment\n",
        "# Perulangan while terus dijalankan selama kondisi (count < 5) bernilai True\n",
        "\n",
        "print ()"
      ],
      "metadata": {
        "colab": {
          "base_uri": "https://localhost:8080/"
        },
        "id": "dtvtMq_-JRKp",
        "outputId": "0d75760a-753d-4a21-f94c-4efbc10452ef"
      },
      "execution_count": null,
      "outputs": [
        {
          "output_type": "stream",
          "name": "stdout",
          "text": [
            "3) WHILE loop sederhana\n",
            "count = 0\n",
            "count = 1\n",
            "count = 2\n",
            "count = 3\n",
            "count = 4\n",
            "\n"
          ]
        }
      ]
    },
    {
      "cell_type": "code",
      "source": [
        "# 4. BREAK pada Loop\n",
        "print(\"4) BREAK di dalam loop\")\n",
        "for i in range(10):\n",
        "     if i == 3:\n",
        "         print(\"Loop dihentikan pada i =\", i)\n",
        "         break  # mengakhiri loop saat i = 3\n",
        "     print(\"i =\", i)\n",
        "# Keyword break langsung menghentikan keseluruhan perulangan\n",
        "\n",
        "print()"
      ],
      "metadata": {
        "colab": {
          "base_uri": "https://localhost:8080/"
        },
        "id": "-6qc4uP8Jj5o",
        "outputId": "ef7a8891-f0de-4b5b-8aba-47d53e2c88b9"
      },
      "execution_count": null,
      "outputs": [
        {
          "output_type": "stream",
          "name": "stdout",
          "text": [
            "4) BREAK di dalam loop\n",
            "i = 0\n",
            "i = 1\n",
            "i = 2\n",
            "Loop dihentikan pada i = 3\n",
            "\n"
          ]
        }
      ]
    },
    {
      "cell_type": "code",
      "source": [
        "# 5. CONTINUE pada Loop\n",
        "print(\"5) CONTINUE di dalam loop\")\n",
        "for i in range(5):\n",
        "    if i == 2:\n",
        "         print(\"Lewati i =\", i, \"dengan continue\")\n",
        "         continue  # melewati iterasi saat ini dan lanjut ke iterasi berikutnya\n",
        "    print(\"i =\", i)\n",
        "# Saat i = 2, baris print(\"i =\", i) tidak akan dieksekusi\n",
        "\n",
        "print()"
      ],
      "metadata": {
        "colab": {
          "base_uri": "https://localhost:8080/"
        },
        "id": "p6PVLL8jJo5k",
        "outputId": "13742716-064c-4a3d-e8b7-dd74a8a29b62"
      },
      "execution_count": null,
      "outputs": [
        {
          "output_type": "stream",
          "name": "stdout",
          "text": [
            "5) CONTINUE di dalam loop\n",
            "i = 0\n",
            "i = 1\n",
            "Lewati i = 2 dengan continue\n",
            "i = 3\n",
            "i = 4\n",
            "\n"
          ]
        }
      ]
    },
    {
      "cell_type": "code",
      "source": [
        "# 6. NESTED Loop (Loop Bersarang)\n",
        "print(\"6) NESTED loop\")\n",
        "for i in range(3):\n",
        "     for j in range(2):\n",
        "         print(f\"i={i}, j={j}\")\n",
        " # Loop luar (outer loop)\n",
        " # Loop dalam (inner loop)\n",
        " # Pada setiap iterasi i, loop j akan berjalan dari 0 sampai 1\n",
        "\n",
        "print()"
      ],
      "metadata": {
        "colab": {
          "base_uri": "https://localhost:8080/"
        },
        "id": "lktWyj8FKA31",
        "outputId": "18ff5ff4-a1fb-4176-b9ff-be48692954a7"
      },
      "execution_count": null,
      "outputs": [
        {
          "output_type": "stream",
          "name": "stdout",
          "text": [
            "6) NESTED loop\n",
            "i=0, j=0\n",
            "i=0, j=1\n",
            "i=1, j=0\n",
            "i=1, j=1\n",
            "i=2, j=0\n",
            "i=2, j=1\n",
            "\n"
          ]
        }
      ]
    },
    {
      "cell_type": "code",
      "source": [
        "# 7. Memanfaatkan ELSE pada Loop\n",
        "print(\"7) ELSE pada loop for/while\")\n",
        "# Python memiliki fitur unik: blok else pada loop\n",
        "# Blok else akan dieksekusi jika loop selesai tanpa di-break.\n",
        "\n",
        "for x in range(3):\n",
        "     print(\"x =\", x)\n",
        "else:\n",
        "     print(\"Loop for telah selesai tanpa break.\\n\")\n",
        "\n",
        "y = 0\n",
        "while y < 3:\n",
        "     print(\"y =\", y)\n",
        "     y += 1\n",
        "else:\n",
        "     print(\"Loop while telah selesai tanpa break.\\n\")"
      ],
      "metadata": {
        "colab": {
          "base_uri": "https://localhost:8080/"
        },
        "id": "YjJyfqL_KJyf",
        "outputId": "283b20ba-9e5a-44e3-b5b3-ff0f9d9e669a"
      },
      "execution_count": null,
      "outputs": [
        {
          "output_type": "stream",
          "name": "stdout",
          "text": [
            "7) ELSE pada loop for/while\n",
            "x = 0\n",
            "x = 1\n",
            "x = 2\n",
            "Loop for telah selesai tanpa break.\n",
            "\n",
            "y = 0\n",
            "y = 1\n",
            "y = 2\n",
            "Loop while telah selesai tanpa break.\n",
            "\n"
          ]
        }
      ]
    },
    {
      "cell_type": "code",
      "source": [
        "# 8. PASS sebagai placeholder\n",
        "print(\"8) PASS (placeholder)\")\n",
        "for i in range(3):\n",
        "    if i == 1:\n",
        "        pass  # pass tidak melakukan apa-apa, digunakan sebagai placeholder\n",
        "    print(\"i =\", i)"
      ],
      "metadata": {
        "colab": {
          "base_uri": "https://localhost:8080/"
        },
        "id": "n1c0Bq1tKV2q",
        "outputId": "c8c7f2c7-8051-48a7-9575-5afe548e1e4d"
      },
      "execution_count": null,
      "outputs": [
        {
          "output_type": "stream",
          "name": "stdout",
          "text": [
            "8) PASS (placeholder)\n",
            "i = 0\n",
            "i = 1\n",
            "i = 2\n"
          ]
        }
      ]
    },
    {
      "cell_type": "markdown",
      "source": [
        "Program 1"
      ],
      "metadata": {
        "id": "a1jTHmQfYJvX"
      }
    },
    {
      "cell_type": "code",
      "source": [
        "berat_badan = int(input(\"Masukkan berat badan = \"))\n",
        "tinggi_badan = float(input(\"Masukkan tinggi badan anda dalam satuan meter = \"))\n",
        "BMI = berat_badan / (tinggi_badan **2)\n",
        "print(\"bmi anda\", BMI)\n",
        "if BMI <= 18.5:\n",
        "    print(\"Underweight\")\n",
        "elif BMI >= 18.5 - BMI <=24.9:\n",
        "    print(\"Normal\")\n",
        "elif BMI >= 25:\n",
        "    print(\"Overweight\")"
      ],
      "metadata": {
        "id": "09JVjuJ1YL9a",
        "outputId": "3af41437-0808-44b4-8043-f47f96a5102c",
        "colab": {
          "base_uri": "https://localhost:8080/"
        }
      },
      "execution_count": null,
      "outputs": [
        {
          "output_type": "stream",
          "name": "stdout",
          "text": [
            "Masukkan berat badan = 58\n",
            "Masukkan tinggi badan anda dalam satuan meter = 1.62\n",
            "bmi anda 22.10028959000152\n",
            "Normal\n"
          ]
        }
      ]
    },
    {
      "cell_type": "markdown",
      "source": [
        "program 2"
      ],
      "metadata": {
        "id": "4vmEv0UIYrN1"
      }
    },
    {
      "cell_type": "code",
      "source": [
        "bilangan = int(input(\"Masukkan bilangan = \"))\n",
        "\n",
        "# Menentukan ganjil atau genap\n",
        "if bilangan % 2 == 0:\n",
        "    print(\"Angka menunjukkan bilangan genap\")\n",
        "else:\n",
        "    print(\"Angka menunjukkan bilangan ganjil\")\n",
        "\n",
        "# Menentukan bilangan prima\n",
        "if bilangan > 1:\n",
        "    is_prima = True\n",
        "    for i in range(2, int(bilangan ** 0.5) + 1):\n",
        "        if bilangan % i == 0:\n",
        "            is_prima = False\n",
        "            break\n",
        "    if is_prima:\n",
        "        print(\"Bilangan ini juga merupakan bilangan prima\")\n",
        "else:\n",
        "    print(\"Bilangan ini bukan bilangan prima\")\n",
        "\n",
        "\n",
        "\n",
        "\n"
      ],
      "metadata": {
        "id": "wGgsN-sMYs-s",
        "outputId": "2958ded4-4347-4c12-a81f-930584dedf02",
        "colab": {
          "base_uri": "https://localhost:8080/"
        }
      },
      "execution_count": 6,
      "outputs": [
        {
          "output_type": "stream",
          "name": "stdout",
          "text": [
            "Masukkan bilangan = 7\n",
            "Angka menunjukkan bilangan ganjil\n",
            "Bilangan ini juga merupakan bilangan prima\n"
          ]
        }
      ]
    }
  ]
}