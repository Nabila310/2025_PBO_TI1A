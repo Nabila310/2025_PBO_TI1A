{
  "nbformat": 4,
  "nbformat_minor": 0,
  "metadata": {
    "colab": {
      "provenance": [],
      "authorship_tag": "ABX9TyOqZJ7YeK550xM+kCqlc2hn",
      "include_colab_link": true
    },
    "kernelspec": {
      "name": "python3",
      "display_name": "Python 3"
    },
    "language_info": {
      "name": "python"
    }
  },
  "cells": [
    {
      "cell_type": "markdown",
      "metadata": {
        "id": "view-in-github",
        "colab_type": "text"
      },
      "source": [
        "<a href=\"https://colab.research.google.com/github/Nabila310/2025_PBO_TI1A/blob/main/Jobsheet_03.ipynb\" target=\"_parent\"><img src=\"https://colab.research.google.com/assets/colab-badge.svg\" alt=\"Open In Colab\"/></a>"
      ]
    },
    {
      "cell_type": "markdown",
      "source": [
        "Praktikum 01: Enkapsulasi pada kelas Bank Account"
      ],
      "metadata": {
        "id": "ycb7rNdH_CNJ"
      }
    },
    {
      "cell_type": "code",
      "source": [
        "class BankAccount:\n",
        "    def __init__(self, owner, balance):\n",
        "      # Atribut dengan double underscore (__) dianggap \"private\" di Python\n",
        "      self.__owner = owner\n",
        "      self.__balance = balance\n",
        "\n",
        "    def deposit(self, amount):\n",
        "      \"\"\"Method untuk melakukan penambahan saldo\"\"\"\n",
        "      if amount > 0:\n",
        "        self.__balance += amount\n",
        "        print(f\"{amount} telah ditambahkan ke akun {self.__owner}.\")\n",
        "      else:\n",
        "        print(\"Jumlah deposit harus lebih besar dari 0.\")\n",
        "\n",
        "    def withdraw(self, amount):\n",
        "      \"\"\"Method untuk menarik saldo\"\"\"\n",
        "      if 0 < amount <= self.__balance:\n",
        "        self.__balance -= amount\n",
        "        print(f\"{amount} telah ditarik dari akun {self.__owner}.\")\n",
        "      else:\n",
        "        print(\"Saldo tidak mencukupi.\")\n",
        "\n",
        "    def get_balance(self):\n",
        "      \"\"\"Method untuk mendapatkan informasi saldo terkini\"\"\"\n",
        "      return self.__balance\n",
        "\n",
        "# Contoh penggunaan\n",
        "if __name__ == \"__main__\":\n",
        "  # Membuat objek BankAccount dengan owner=\"Alice\" dan balance awal\n",
        "  alice_account = BankAccount(owner=\"Alice\", balance=1000)\n",
        "\n",
        "  # Deposit uang\n",
        "  alice_account.deposit(500)    # Berhasil\n",
        "  alice_account.deposit(-100)   # Gagal (validasi)\n",
        "\n",
        "  # Withdraw uang\n",
        "  alice_account.withdraw(300)   # Berhasil\n",
        "  alice_account.withdraw(2000)  # Gagal (validasi)\n",
        "\n",
        "  # Mendapatkan saldo\n",
        "  current_balance = alice_account.get_balance()\n",
        "  print(f\"Saldo terakhir di akun {alice_account._BankAccount__owner}: {current_balance}\")\n",
        "\n",
        "  # Mencoba mengakses atribut 'private' langsung (tidak direkomendasikan)\n",
        "  # alice_account._balance, # Akan error\n",
        "  # Karena Python \"msngling\" nama atribut __balance menjadi _BankAccount_balance\n",
        "  # Ini adalah salah satu mekanisme enkapsulasi sederhana di Python.\n",
        "\n"
      ],
      "metadata": {
        "colab": {
          "base_uri": "https://localhost:8080/"
        },
        "id": "xYFPbdPO_BIk",
        "outputId": "e0cca8d3-b87c-47ca-f922-06ed0af5d391"
      },
      "execution_count": null,
      "outputs": [
        {
          "output_type": "stream",
          "name": "stdout",
          "text": [
            "500 telah ditambahkan ke akun Alice.\n",
            "Jumlah deposit harus lebih besar dari 0.\n",
            "300 telah ditarik dari akun Alice.\n",
            "Saldo tidak mencukupi.\n",
            "Saldo terakhir di akun Alice: 1200\n"
          ]
        }
      ]
    },
    {
      "cell_type": "markdown",
      "source": [
        "Praktikum 02: Enkapsulasi pada kelas Employee"
      ],
      "metadata": {
        "id": "uaQ0jLvNEJ-F"
      }
    },
    {
      "cell_type": "code",
      "source": [
        "class Employee:\n",
        "  def __init__(self, name, salary):\n",
        "    # Atribut privat dengan double underscore\n",
        "    self.__name = name\n",
        "    self.__salary = salary\n",
        "\n",
        "  def update_salary(self, increase):\n",
        "    \"\"\"Method untuk menaikkan gaji dengan validasi.\"\"\"\n",
        "    if increase > 0:\n",
        "      self.__salary += increase\n",
        "      print(f\"Gaji telah dinaikkan sebesar {increase}.\")\n",
        "    else:\n",
        "      print(\"Nilai kenaikkan harus lebih dari 0.\")\n",
        "\n",
        "  def set_salary(self, new_salary):\n",
        "    \"\"\"Method untuk mengubah gaji dengan validasi.\"\"\"\n",
        "    if new_salary > 0:\n",
        "      self.__salary = new_salary\n",
        "      print(f\"Gaji diatur ulang menjadi {new_salary}.\")\n",
        "    else:\n",
        "      print(\"Gaji tidak dapat bernilai negatif\")\n",
        "\n",
        "  def get_salary(self):\n",
        "    \"\"\"Method untuk mendapatkan informasi gaji.\"\"\"\n",
        "    return self.__salary\n",
        "\n",
        "  def get_employee_info(self):\n",
        "    \"\"\"Method untuk menampilkan informasi karyawan secara menyeluruh\"\"\"\n",
        "    return f\"Employee: {self.__name}, Gaji: {self.__salary}\"\n",
        "\n",
        "# Contoh penggunaan\n",
        "if __name__ == \"__main__\":\n",
        "  # Membuat objek Employee dengan nama \"John Doe\" dan gaji awal 50000\n",
        "  employee1 = Employee(\"John Doe\", 50000)\n",
        "\n",
        "  # Tampilkan informasi karyawan\n",
        "  print(employee1.get_employee_info())\n",
        "\n",
        "  # Update gaji dengan menaikkan sebesar 5000\n",
        "  employee1.update_salary(5000)\n",
        "\n",
        "  # Atur ulang gaji dengan nilai baru\n",
        "  employee1.set_salary(60000)\n",
        "  print(f\"Informasi terbaru: {employee1.get_salary()}\")\n",
        "\n",
        "  # Mencoba mengakses atribut privat secara langsung (tidak direkomendasikan)\n",
        "  # Print(Employee1.__salary) --> Ini akan meimbulkan error"
      ],
      "metadata": {
        "colab": {
          "base_uri": "https://localhost:8080/"
        },
        "id": "aMRAN1V4ERHK",
        "outputId": "6d6ab144-8789-4f33-9a69-9e0ab77e700e"
      },
      "execution_count": null,
      "outputs": [
        {
          "output_type": "stream",
          "name": "stdout",
          "text": [
            "Employee: John Doe, Gaji: 50000\n",
            "Gaji telah dinaikkan sebesar 5000.\n",
            "Gaji diatur ulang menjadi 60000.\n",
            "Informasi terbaru: 60000\n"
          ]
        }
      ]
    },
    {
      "cell_type": "markdown",
      "source": [
        "Praktikum 03: Konstruktor dan Destruktor Sederhana"
      ],
      "metadata": {
        "id": "ErEPmZ9aH-An"
      }
    },
    {
      "cell_type": "code",
      "source": [
        "class SimpleExample:\n",
        "  def __init__(self, name):\n",
        "    \"\"\"Konstruktor: Dipanggil saat objek dibuat.Ini menyimpan nilai 'name' dan mencetak pembuatan objek.\"\"\"\n",
        "    self.name = name\n",
        "    print(f\"Konstruktor: Objek '{self.name}' telah dibuat.\")\n",
        "\n",
        "  def __del__(self):\n",
        "    \"\"\"Destruktor: Dipanggil saat objek dihapus. Mencetak pesan bahwa objek telah dihapus.\"\"\"\n",
        "    print(f\"Destruktor: Objek '{self.name}' sedang dihapus.\")\n",
        "\n",
        "def main():\n",
        "    print(\"Program dimulai.\\n\")\n",
        "\n",
        "    # Membuat objek SimpleExample\n",
        "    obj = SimpleExample(\"Demo\")\n",
        "    print(\"Program sedang berjalan...\\n\")\n",
        "\n",
        "    # Menghapus objek secara eksplisit\n",
        "    del obj\n",
        "    print(\"Objek telah dihapus secara eksplisit.\\n\")\n",
        "\n",
        "    print(\"Program selesai.\")\n",
        "\n",
        "if __name__ == \"__main__\":\n",
        "  main()"
      ],
      "metadata": {
        "colab": {
          "base_uri": "https://localhost:8080/"
        },
        "id": "kS64d1FHIFTF",
        "outputId": "5c73cf0f-2dc9-4fc6-c239-5fe011e18d43"
      },
      "execution_count": null,
      "outputs": [
        {
          "output_type": "stream",
          "name": "stdout",
          "text": [
            "Program dimulai.\n",
            "\n",
            "Konstruktor: Objek 'Demo' telah dibuat.\n",
            "Program sedang berjalan...\n",
            "\n",
            "Destruktor: Objek 'Demo' sedang dihapus.\n",
            "Objek telah dihapus secara eksplisit.\n",
            "\n",
            "Program selesai.\n"
          ]
        }
      ]
    },
    {
      "cell_type": "markdown",
      "source": [
        "Praktikum 04: Konstruktor dan Destruktor program FileLogger"
      ],
      "metadata": {
        "id": "vcwFSu-DKsxL"
      }
    },
    {
      "cell_type": "code",
      "source": [
        "class FileLogger:\n",
        "  def __init__(self, filename):\n",
        "    \"\"\"\n",
        "    Konstruktor: Membuka file log untuk menulis pesan.\n",
        "    Parameter:\n",
        "      - Filename: Nama file tempat pesan log akan ditulis.\n",
        "    \"\"\"\n",
        "    self.filename =filename\n",
        "    try:\n",
        "        self.file = open(filename, \"a\")  # Membuka file dalam mode append\n",
        "        print(f\"File '{filename}' berhasil dibuka untuk logging.\")\n",
        "    except Exception as e:\n",
        "      print(f\"Gagal membuka file '{filename}': {e}\")\n",
        "\n",
        "  def write_log(self, message):\n",
        "    \"\"\"\n",
        "    Menulis pesan log ke dalam file.\n",
        "    Parameter:\n",
        "      - message: Pesan yang akan ditulis ke file.\n",
        "    \"\"\"\n",
        "    self.file.write(message + \"\\n\")\n",
        "    self.file.flush()  # Memastikan pesan langsung ditulis ke disk\n",
        "    print(f\"Pesan log: '{message}' telah ditulis.\")\n",
        "\n",
        "  def __del__(self):\n",
        "    \"\"\"\n",
        "    Destruktor: Menutup file log ketika objek dihapus.\n",
        "    \"\"\"\n",
        "    if hasattr(self, \"file\") and not self.file.closed:\n",
        "      self.file.close()\n",
        "      print(f\"File '{self.filename}' telah ditutup.\")\n",
        "\n",
        "# Contoh penggunaan dalam skenario nyata aplikasi\n",
        "if __name__ == \"__main__\":\n",
        "  # Membuat objek logger untuk file \"application.log\"\n",
        "  logger = FileLogger(\"application.log\")\n",
        "\n",
        "  # Menulis beberapa pesan log selama operasi aplikasi\n",
        "  logger.write_log(\"Aplikasi dimulai.\")\n",
        "  logger.write_log(\"Melakukan operasi A...\")\n",
        "  logger.write_log(\"Operasi A selesai.\")\n",
        "  logger.write_log(\"Aplikasi akan segera selesai.\")\n",
        "\n",
        "  # Menghapus objek logger secara eksplisit\n",
        "  del logger\n",
        "\n",
        "  # Jika objek tidak dihapus secara eksplisit,destruktor akan dipanggil\n",
        "  # Ketika program berakhir dan garbage collection membersihkan objek tersebut.\n"
      ],
      "metadata": {
        "colab": {
          "base_uri": "https://localhost:8080/"
        },
        "id": "l7Fk95G1K0wD",
        "outputId": "bb5d97ac-277a-4867-d969-d59a4f3378d7"
      },
      "execution_count": null,
      "outputs": [
        {
          "output_type": "stream",
          "name": "stdout",
          "text": [
            "File 'application.log' berhasil dibuka untuk logging.\n",
            "Pesan log: 'Aplikasi dimulai.' telah ditulis.\n",
            "Pesan log: 'Melakukan operasi A...' telah ditulis.\n",
            "Pesan log: 'Operasi A selesai.' telah ditulis.\n",
            "Pesan log: 'Aplikasi akan segera selesai.' telah ditulis.\n",
            "File 'application.log' telah ditutup.\n"
          ]
        }
      ]
    },
    {
      "cell_type": "markdown",
      "source": [
        "Praktikum 05: Properti \"self\" pada kelas"
      ],
      "metadata": {
        "id": "TcpmgRK7PFIn"
      }
    },
    {
      "cell_type": "code",
      "source": [
        "class Calculator:\n",
        "  def __init__(self, initial_value=0):\n",
        "    \"\"\"\n",
        "    Konstruktor kelas calculator.\n",
        "    - self: Mengacu pada instance yang dibuat.\n",
        "    - initial_value: Nilai awal dari kalkulator.\n",
        "    \"\"\"\n",
        "    self.value = initial_value\n",
        "    print(f\"Kalkulator diinisialisasi dengan nilai: {self.value}\")\n",
        "\n",
        "  def add(self, number):\n",
        "    \"\"\"\n",
        "    Menambahkan 'number' ke nilai yang tersimpan di objek.\n",
        "    - self.value: Menunjukkan nilai saat ini yang disimpan di objek tersebut.\n",
        "    - number: Nilai yang akan ditambahkan.\n",
        "    \"\"\"\n",
        "    self.value += number\n",
        "    print(f\"Setelah penambahan {number}, nilai sekarang adalah: {self.value}\")\n",
        "\n",
        "  def substract(self, number):\n",
        "    \"\"\"\n",
        "    Mengurangi 'number' dari nilai yang tersimpan.\n",
        "    - self.value: Nilai saat ini dalam objek.\n",
        "    - number: Nilai yang akan dikurangkan.\n",
        "    \"\"\"\n",
        "    self.value -= number\n",
        "    print(f\"Setelah pengurangan {number}, nilai sekarang adalah: {self.value}\")\n",
        "\n",
        "  def reset(self):\n",
        "    \"\"\"\n",
        "    Mengatur ulang nilai kalkulator ke 0.\n",
        "    \"\"\"\n",
        "    self.value = 0\n",
        "    print(\"Nilai telah direset ke 0.\")\n",
        "\n",
        "  def show_value(self):\n",
        "    \"\"\"\n",
        "    Menampilkan nilai saat ini dari kalkulator.\n",
        "    \"\"\"\n",
        "    print(f\"Nilai saat ini adalah: {self.value}\")\n",
        "\n",
        "# Contoh penggunaan untuk memahami peran 'self'\n",
        "def main():\n",
        "  # Membuat objek Calculator dengan nilai awal 10\n",
        "  calc1 = Calculator(initial_value=10)\n",
        "\n",
        "  # Menggunakan metode dari objek calc1\n",
        "  calc1.add(5)        # Menambahkan 5 ke nilai calc1\n",
        "  calc1.substract(3)  # Mengurangi 3 dari nilai calc1\n",
        "  calc1.show_value()  # Menampilkan nilai calc1\n",
        "\n",
        "  # Membuat objek Calculator lainnya dengan nilai awal default (0)\n",
        "  calc2 = Calculator()\n",
        "  calc2.add(20)       # Menambah 20 ke nilai calc2\n",
        "  calc2.show_value()  # Menampilkan nilai calc2\n",
        "\n",
        "  # Penjelasan peran self:\n",
        "  # 'self' memungkinkan setiap instance (calc1, calc2) memiliki atribut 'value' masing-masing.\n",
        "  # Perubahan yang dilakukan pada calc1 tidak akan mempengaruhi calc2,karena masing-masing\n",
        "  # Mengacu pada self yang berbeda (instance yang berbeda).\n",
        "\n",
        "if __name__ == \"__main__\":\n",
        "  main()\n"
      ],
      "metadata": {
        "colab": {
          "base_uri": "https://localhost:8080/"
        },
        "id": "hP03fpwXPNHA",
        "outputId": "a11d03a9-afa0-41a4-832e-41d79c26dc35"
      },
      "execution_count": null,
      "outputs": [
        {
          "output_type": "stream",
          "name": "stdout",
          "text": [
            "Kalkulator diinisialisasi dengan nilai: 10\n",
            "Setelah penambahan 5, nilai sekarang adalah: 15\n",
            "Setelah pengurangan 3, nilai sekarang adalah: 12\n",
            "Nilai saat ini adalah: 12\n",
            "Kalkulator diinisialisasi dengan nilai: 0\n",
            "Setelah penambahan 20, nilai sekarang adalah: 20\n",
            "Nilai saat ini adalah: 20\n"
          ]
        }
      ]
    },
    {
      "cell_type": "markdown",
      "source": [
        "Praktikum 06: Menggunakan getter, setter, dan dekorator @property untuk mengelola akses atribut"
      ],
      "metadata": {
        "id": "wjub2_agT1wN"
      }
    },
    {
      "cell_type": "code",
      "source": [
        "class Person:\n",
        "  def __init__(self, name, age):\n",
        "    \"\"\"\n",
        "    Konstruktor untuk menginisialisasi objek Person dengan nama dan umur.\n",
        "    Atribut privat (dengan double underscore) menyimpan data internal.\n",
        "    \"\"\"\n",
        "    self.__name = name\n",
        "    self.__age = age\n",
        "\n",
        "  @property\n",
        "  def name(self):\n",
        "    \"\"\"\n",
        "    Getter untuk atribut name.\n",
        "    mengembalikan nilai dari __name.\n",
        "    \"\"\"\n",
        "    return self.__name\n",
        "\n",
        "  @name.setter\n",
        "  def name(self,value):\n",
        "    \"\"\"\n",
        "    Setter untuk atribut name.\n",
        "    Memeriksa apakah nilai tidak kosong sebelum mengubah nilai __name.\n",
        "    \"\"\"\n",
        "    if not value:\n",
        "      print(\"Nama tidak boleh kosong.\")\n",
        "    else:\n",
        "      self.__name = value\n",
        "\n",
        "  @property\n",
        "  def age(self):\n",
        "    \"\"\"\n",
        "    Getter untuk atribut age.\n",
        "    mengembalikan nilai dari __age.\n",
        "    \"\"\"\n",
        "    return self.__age\n",
        "\n",
        "  @age.setter\n",
        "  def age(self, value):\n",
        "    \"\"\"\n",
        "    Setter untuk atribut age.\n",
        "    Memeriksa apakah umur tidak negatif sebelum mengubah nilai __age.\n",
        "    \"\"\"\n",
        "    if value < 0:\n",
        "      print(\"Umur tidak boleh negatif.\")\n",
        "    else:\n",
        "      self.__age = value\n",
        "\n",
        "# Contoh penggunaan\n",
        "def main():\n",
        "  # Membuat objek Person dengan nama \"Alice\" dan umur 30\n",
        "  person = Person(\"Alice\", 30)\n",
        "  print(f\"Nama: {person.name}, Umur: {person.age}\")\n",
        "\n",
        "  # Mengubah nama dan umur melalui setter\n",
        "  person.name = \"Bob\"\n",
        "  person.age = 35\n",
        "  print(f\"Nama: {person.name}, Umur: {person.age}\")\n",
        "\n",
        "  # Mencoba menetapkan nilai yang tidak valid untuk umur\n",
        "  person.age = -5   # Akan mmeunculkan pesan error karena validasi umur negatir\n",
        "\n",
        "if __name__ == \"__main__\":\n",
        "  main()\n",
        "\n"
      ],
      "metadata": {
        "colab": {
          "base_uri": "https://localhost:8080/"
        },
        "id": "WSEOFrkRUDtT",
        "outputId": "b23446c2-ab97-40f3-9332-3a2968b47dc6"
      },
      "execution_count": null,
      "outputs": [
        {
          "output_type": "stream",
          "name": "stdout",
          "text": [
            "Nama: Alice, Umur: 30\n",
            "Nama: Bob, Umur: 35\n",
            "Umur tidak boleh negatif.\n"
          ]
        }
      ]
    },
    {
      "cell_type": "markdown",
      "source": [
        "Penugasan kelas Student"
      ],
      "metadata": {
        "id": "-GBmGQ_yy1lP"
      }
    },
    {
      "cell_type": "code",
      "source": [
        "class Student:\n",
        "  def __init__(self, name, score):\n",
        "    self.__name = name\n",
        "    self.__score = None\n",
        "    self.__grade = None\n",
        "    self.score = score\n",
        "\n",
        "  @property\n",
        "  def name(self):\n",
        "    return self.__name\n",
        "\n",
        "  @name.setter\n",
        "  def name(self, value):\n",
        "     self.__name = value\n",
        "\n",
        "  @property\n",
        "  def score(self):\n",
        "    return self.__score\n",
        "\n",
        "  @score.setter\n",
        "  def score(self, value):\n",
        "    if 0 <= value <= 100:\n",
        "      self.__score = value\n",
        "      self.__update_grade()\n",
        "    else:\n",
        "      raise ValueError(\"Score harus berada di antara 0 dan 100.\")\n",
        "\n",
        "  def __update_grade(self):\n",
        "    if self.__score >= 90:\n",
        "      self.__grade = \"A\"\n",
        "    elif self.__score >= 80:\n",
        "      self.__grade = \"B\"\n",
        "    elif self.__score >= 70:\n",
        "      self.__grade = \"C\"\n",
        "    elif self.__score >= 60:\n",
        "      self.__grade = \"D\"\n",
        "    else:\n",
        "      self.__grade = \"E\"\n",
        "\n",
        "  def show_info(self):\n",
        "    print(f\"Nama Mahasiswa: {self.__name}\")\n",
        "    print(f\"Nilai: {self.__score}\")\n",
        "    print(f\"Grade: {self.__grade}\")\n",
        "\n",
        "  def __del__(self):\n",
        "    print(f\"Data mahasiswa {self.__name} telah dihapus dari sistem.\")\n",
        "\n",
        "# Pemanggilan\n",
        "if __name__ == \"__main__\":\n",
        "  mhs = Student(\"Asrul\", 87)\n",
        "  mhs.show_info()\n",
        "\n",
        "  print(\"\\nNilai diubah...\")\n",
        "  mhs.score = 98\n",
        "  mhs.show_info()\n",
        "\n",
        "  del mhs\n"
      ],
      "metadata": {
        "id": "S-BpFhGVy4qF",
        "outputId": "333b3196-5466-4f67-c3dc-13a65212bb38",
        "colab": {
          "base_uri": "https://localhost:8080/"
        }
      },
      "execution_count": null,
      "outputs": [
        {
          "output_type": "stream",
          "name": "stdout",
          "text": [
            "Nama Mahasiswa: Asrul\n",
            "Nilai: 87\n",
            "Grade: B\n",
            "\n",
            "Nilai diubah...\n",
            "Nama Mahasiswa: Asrul\n",
            "Nilai: 98\n",
            "Grade: A\n",
            "Data mahasiswa Asrul telah dihapus dari sistem.\n"
          ]
        }
      ]
    },
    {
      "cell_type": "markdown",
      "source": [
        "Diagram Kelas Student"
      ],
      "metadata": {
        "id": "MBVvChFqmIWz"
      }
    },
    {
      "cell_type": "code",
      "source": [
        "+-----------------+\n",
        "|     Student     |\n",
        "+-----------------+\n",
        "| - __name: str   |\n",
        "| - __score: int  |\n",
        "| - __grade: str  |\n",
        "+-----------------+\n",
        "| + __init__(name, score) |\n",
        "| + name: str {get; set}  |\n",
        "| + score: int {get; set} |\n",
        "| - __update_grade(): None|\n",
        "| + show_info(): None     |\n",
        "| + __del__(): None       |\n",
        "+-------------------------+"
      ],
      "metadata": {
        "id": "g4hb8Rm3nZ80"
      },
      "execution_count": null,
      "outputs": []
    }
  ]
}